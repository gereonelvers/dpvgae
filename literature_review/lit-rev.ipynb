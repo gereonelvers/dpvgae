{
 "cells": [
  {
   "cell_type": "code",
   "execution_count": 1,
   "metadata": {
    "collapsed": true,
    "pycharm": {
     "name": "#%%\n"
    }
   },
   "outputs": [
    {
     "name": "stderr",
     "output_type": "stream",
     "text": [
      "[nltk_data] Downloading package stopwords to\n",
      "[nltk_data]     C:\\Users\\gereo\\AppData\\Roaming\\nltk_data...\n",
      "[nltk_data]   Package stopwords is already up-to-date!\n",
      "[nltk_data] Downloading package punkt to\n",
      "[nltk_data]     C:\\Users\\gereo\\AppData\\Roaming\\nltk_data...\n",
      "[nltk_data]   Package punkt is already up-to-date!\n",
      "[nltk_data] Downloading package averaged_perceptron_tagger to\n",
      "[nltk_data]     C:\\Users\\gereo\\AppData\\Roaming\\nltk_data...\n",
      "[nltk_data]   Package averaged_perceptron_tagger is already up-to-\n",
      "[nltk_data]       date!\n",
      "[nltk_data] Downloading package wordnet to\n",
      "[nltk_data]     C:\\Users\\gereo\\AppData\\Roaming\\nltk_data...\n",
      "[nltk_data]   Package wordnet is already up-to-date!\n",
      "[nltk_data] Downloading package omw-1.4 to\n",
      "[nltk_data]     C:\\Users\\gereo\\AppData\\Roaming\\nltk_data...\n",
      "[nltk_data]   Package omw-1.4 is already up-to-date!\n"
     ]
    },
    {
     "data": {
      "text/plain": "True"
     },
     "execution_count": 1,
     "metadata": {},
     "output_type": "execute_result"
    }
   ],
   "source": [
    "import nltk\n",
    "import pandas as pd\n",
    "# import re\n",
    "import numpy as np\n",
    "import matplotlib.pyplot as plt\n",
    "import seaborn as sns\n",
    "from nltk.corpus import stopwords\n",
    "\n",
    "#from google.colab import files\n",
    "#import io\n",
    "\n",
    "nltk.download('stopwords')\n",
    "nltk.download('punkt')\n",
    "nltk.download('averaged_perceptron_tagger')\n",
    "nltk.download('wordnet')\n",
    "from nltk import word_tokenize\n",
    "from nltk.stem import WordNetLemmatizer\n",
    "# from sklearn.feature_extraction.text import CountVectorizer, TfidfVectorizer\n",
    "# from nltk.util import ngrams\n",
    "\n",
    "#import gensim\n",
    "#from gensim.models import Phrases\n",
    "#from gensim.corpora import Dictionary\n",
    "\n",
    "import warnings\n",
    "\n",
    "warnings.filterwarnings(\"ignore\")\n",
    "\n",
    "seed = 42\n",
    "nltk.download(\"omw-1.4\")"
   ]
  },
  {
   "cell_type": "code",
   "execution_count": 2,
   "outputs": [],
   "source": [
    "stop_words = stopwords.words('english')\n",
    "\n",
    "stop_words.extend([\n",
    "    \"process\", \"improve\", \"improvement\", \"data\"\n",
    "])\n",
    "\n",
    "stop_words.extend([\n",
    "    \"generative\", \"neural\", \"network\", \"gnn\", \"model\"\n",
    "])\n",
    "\n",
    "stop_words.extend([\n",
    "    \"this\", \"paper\", \"study\", \"artifact\", \"method\"\n",
    "])\n",
    "\n",
    "lemma = WordNetLemmatizer()\n",
    "stop_words_lem = [lemma.lemmatize(s) for s in stop_words]\n",
    "stop_words.extend(stop_words_lem)"
   ],
   "metadata": {
    "collapsed": false,
    "pycharm": {
     "name": "#%%\n"
    }
   }
  },
  {
   "cell_type": "code",
   "execution_count": 3,
   "outputs": [
    {
     "data": {
      "text/plain": "<Figure size 720x720 with 2 Axes>",
      "image/png": "[encoded data removed]"
     },
     "metadata": {
      "needs_background": "light"
     },
     "output_type": "display_data"
    }
   ],
   "source": [
    "from nltk.corpus import wordnet\n",
    "\n",
    "\n",
    "## Lemmatizer with POS tag\n",
    "def get_wordnet_pos(word):\n",
    "    \"\"\"Map POS tag to first character lemmatize() accepts\"\"\"\n",
    "    tag = nltk.pos_tag([word])[0][1][0].upper()\n",
    "    tag_dict = {\"J\": wordnet.ADJ,\n",
    "                \"N\": wordnet.NOUN,\n",
    "                \"V\": wordnet.VERB,\n",
    "                \"R\": wordnet.ADV}\n",
    "\n",
    "    return tag_dict.get(tag, wordnet.NOUN)\n",
    "\n",
    "\n",
    "class LemmaTokenizer(object):\n",
    "    def __init__(self):\n",
    "        self.wnl = WordNetLemmatizer()\n",
    "\n",
    "    def __call__(self, articles):\n",
    "        return [self.wnl.lemmatize(t, get_wordnet_pos(t)) for t in word_tokenize(articles) if t not in stop_words]\n",
    "\n",
    "\n",
    "def clean_text(data, column):\n",
    "    data[column] = data[column].str.replace('\\d+', '').str.lower()  # for digits\n",
    "    data[column] = data[column].str.replace(r'(\\b\\w{1,2}\\b)', '').str.lower()  # for words\n",
    "    data[column] = data[column].str.replace('[^\\w\\s]', '').str.lower()  # for punctuation\n",
    "\n",
    "\n",
    "def add_column(data, keywords):\n",
    "    for kw in keywords:\n",
    "        data[kw] = data[\"txt\"].str.contains(kw, regex=False)\n",
    "\n",
    "\n",
    "def plt_dist_total(keywords, title, topics, df):\n",
    "    add_column(df, keywords)\n",
    "    k_sum = {}\n",
    "    r = np.arange(len(keywords))\n",
    "    fig, ax = plt.subplots(1, 1, figsize=(12, 8))\n",
    "    for t in topics:\n",
    "        k_sum[t] = {}\n",
    "        for i, k in enumerate(keywords):\n",
    "            k_sum[t][k] = int((df.loc[(df[t] == True)][k].sum()))\n",
    "        v1 = ax.bar(x=r, height=k_sum[t].values(), width=0.2)\n",
    "        r = r + 0.2\n",
    "    ax.set_xticks([s + 0.3 for s in range(len(v1))])\n",
    "    ax.set_xticklabels(keywords, rotation=70, fontsize=16)\n",
    "    ax.legend(topics, fontsize=16)\n",
    "    ax.set_ylabel('No of papers per topic', fontsize=16)\n",
    "    ax.set_title(title, fontsize=18)\n",
    "    #plt.style.use('default')\n",
    "\n",
    "\n",
    "def plt_dist_perc(keywords, title, topics, df):\n",
    "    add_column(df, keywords)\n",
    "    k_sum = {}\n",
    "    r = np.arange(len(keywords))\n",
    "    fig, ax = plt.subplots(1, 1, figsize=(12, 8))\n",
    "    for t in topics:\n",
    "        k_sum[t] = {}\n",
    "        for i, k in enumerate(keywords):\n",
    "            k_sum[t][k] = int((df.loc[(df[t] == True)][k].sum() / len(df.loc[(df[t] == True)])) * 100)\n",
    "        v1 = ax.bar(x=r, height=k_sum[t].values(), width=0.2)\n",
    "        r = r + 0.2\n",
    "    ax.set_xticks([s + 0.3 for s in range(len(v1))])\n",
    "    ax.set_xticklabels(keywords, rotation=70, fontsize=16)\n",
    "    ax.legend(topics, fontsize=16)\n",
    "    ax.set_ylabel('% of papers per topic', fontsize=16)\n",
    "    ax.set_title(title, fontsize=18)\n",
    "    #plt.style.use('default')\n",
    "\n",
    "\n",
    "def plt_corr(data, keywords):\n",
    "    corr = data[keywords].corr()\n",
    "    ax = sns.heatmap(\n",
    "        corr,\n",
    "        vmin=-1, vmax=1, center=0,\n",
    "        cmap=sns.diverging_palette(20, 220, n=200),\n",
    "        square=True\n",
    "    )\n",
    "    ax.set_xticklabels(\n",
    "        ax.get_xticklabels(),\n",
    "        rotation=45,\n",
    "        horizontalalignment='right'\n",
    "    )\n",
    "\n",
    "\n",
    "def heatmap(title, x, y, size):\n",
    "    fig, ax = plt.subplots()\n",
    "\n",
    "    # Mapping from column names to integer coordinates\n",
    "    x_labels = [v for v in x.unique()]\n",
    "    y_labels = [v for v in y.unique()]\n",
    "    x_to_num = {p[1]: p[0] for p in enumerate(x_labels)}\n",
    "    y_to_num = {p[1]: p[0] for p in enumerate(y_labels)}\n",
    "\n",
    "    size_scale = 600\n",
    "    ax.scatter(\n",
    "        x=x.map(x_to_num),  # Use mapping for x\n",
    "        y=y.map(y_to_num),  # Use mapping for y\n",
    "        s=size * size_scale,  # Vector of square sizes, proportional to size parameter\n",
    "        c=size * size_scale,\n",
    "        cmap=\"RdBu\",\n",
    "        marker='s'  # Use square as scatterplot marker\n",
    "    )\n",
    "\n",
    "    # Show column labels on the axes\n",
    "    ax.set_xticks([x_to_num[v] for v in x_labels])\n",
    "    ax.set_xticklabels(x_labels, rotation=45, horizontalalignment='right')\n",
    "    ax.set_yticks([y_to_num[v] for v in y_labels])\n",
    "    ax.set_yticklabels(y_labels)\n",
    "    plt.title(title)\n",
    "    #plt.colorbar(ax.imshow(np.arange(0,1,0.01).reshape((10, 10)), cmap=\"RdBu\"))\n",
    "\n",
    "    ax.grid(False, 'major')\n",
    "    ax.grid(True, 'minor')\n",
    "    ax.set_xticks([t + 0.5 for t in ax.get_xticks()], minor=True)\n",
    "    ax.set_yticks([t + 0.5 for t in ax.get_yticks()], minor=True)\n",
    "\n",
    "    ax.set_xlim([-0.5, max([v for v in x_to_num.values()]) + 0.5])\n",
    "    ax.set_ylim([-0.5, max([v for v in y_to_num.values()]) + 0.5])\n",
    "\n",
    "\n",
    "def plot_scatter(cat1, cat2, df, topics):\n",
    "    for t in topics:\n",
    "        c_old = df[df[t] == 1][cat1 + cat2].corr()\n",
    "        c = c_old[cat2][0:len(cat1)]\n",
    "        #print(c)\n",
    "        c = pd.melt(c.reset_index(), id_vars='index')  # Unpivot the dataframe, so we can get pair of arrays for x and y\n",
    "        c.columns = ['x', 'y', 'value']\n",
    "        title = str(t)\n",
    "        heatmap(title,\n",
    "                x=c['x'],\n",
    "                y=c['y'],\n",
    "                size=c['value'].abs()\n",
    "                )\n",
    "\n",
    "\n",
    "def autolabel(rects):\n",
    "    \"\"\"Attach a text label above each bar in *rects*, displaying its height.\"\"\"\n",
    "    for rect in rects:\n",
    "        height = rect.get_height()\n",
    "        ax.annotate('{}'.format(height),\n",
    "                    xy=(rect.get_x() + rect.get_width() / 2, height),\n",
    "                    xytext=(0, 3),  # 3 points vertical offset\n",
    "                    textcoords=\"offset points\",\n",
    "                    ha='center', va='bottom')\n",
    "\n",
    "\n",
    "fig, ax = plt.subplots(2, 1, figsize=(10, 10), sharex=True)\n",
    "\n",
    "\n",
    "def sum_plot(data, outlet, column, top):\n",
    "    sums = data[data[outlet] == True].groupby(column).agg({top: \"sum\"})\n",
    "    sums = sums.replace(0, np.nan)\n",
    "    return sums\n",
    "\n",
    "\n"
   ],
   "metadata": {
    "collapsed": false,
    "pycharm": {
     "name": "#%%\n"
    }
   }
  },
  {
   "cell_type": "markdown",
   "source": [
    "# Business Process Redesign"
   ],
   "metadata": {
    "collapsed": false,
    "pycharm": {
     "name": "#%% md\n"
    }
   }
  },
  {
   "cell_type": "code",
   "execution_count": 4,
   "outputs": [
    {
     "name": "stdout",
     "output_type": "stream",
     "text": [
      "The dataset contains 208 papers.\n",
      "\n",
      "No. of papers without abstract: 14\n",
      "No. of papers without tags: 57\n"
     ]
    }
   ],
   "source": [
    "df_bpr = pd.read_csv(\"bpr-lit.csv\", sep=\";\").drop_duplicates(subset=[\"Article Title\"])\n",
    "print(\"The dataset contains %i papers.\\n\" % len(df_bpr))\n",
    "\n",
    "print(\"No. of papers without abstract: \" + str(df_bpr[\"Abstract\"].isna().sum()))\n",
    "print(\"No. of papers without tags: \" + str(df_bpr[\n",
    "                                               \"Author Keywords\"].isna().sum()))  # TODO: Not sure if there is an equivalent to tags in Google Scholar search?"
   ],
   "metadata": {
    "collapsed": false,
    "pycharm": {
     "name": "#%%\n"
    }
   }
  },
  {
   "cell_type": "code",
   "execution_count": 5,
   "outputs": [],
   "source": [
    "#remove special characters in titles + abstracts\n",
    "i = [\"Abstract\", \"Article Title\"]\n",
    "for i in i:\n",
    "    clean_text(df_bpr, i)\n",
    "\n",
    "#subset dataset to only include english publications\n",
    "languages = [\"English\", \"eng\"]\n",
    "df_bpr_en = df_bpr.loc[df_bpr['Language'].isin(languages)]\n",
    "\n",
    "#create new column with all textual data\n",
    "df_bpr_en[\"txt\"] = df_bpr_en[\"Article Title\"] + df_bpr_en[\"Abstract\"].fillna(\"\") + df_bpr_en[\"Author Keywords\"].fillna(\n",
    "    \"\")\n",
    "\n",
    "#create df with abstracts\n",
    "df_bpr_en_abstracts = df_bpr_en[\"Abstract\"]\n",
    "\n",
    "# #add analysis keywords\n",
    "# # TODO: These all need to redefined\n",
    "# keywords = [\"review\", \"state of the art\", \"stateoftheart\", \"patient journey\", \"clinical pathway\", \"care map\", \"patient flow\", \"patientflow\"]\n",
    "# topics = [\"patient journey\", \"clinical pathway\", \"patient flow\", \"care map\"]\n",
    "# diseases = [\"hip replacement\", \"knee replacement\", \"arthroplasty\", \"cancer\", \"cardiovascular\", \"stroke\", \"heart\", \"myocardial\", \"coronary\", \"kidney\", \"pulmonary\",\"pneumonia\", \"asthma\", \"diabetes\", \"arthritis\"]\n",
    "# study_types = [ \"systematic review\", \"qualitative\", \"quantitative\", \"interview\", \"focus group\",  \"simulation\", \"markov\", \"stochastic\", \"queuing\", \"mining\", \"machine learning\", \"predictive\", \"forecast\", \"prescriptive\", \"optimization\", \"mapping\", \"modeling\", \"process mining\", \"workflow\"]\n",
    "# encounter = [\"inpatient\",\"ambulatory\", \"outpatient\", \"acute\", \"chronic\", \"elective\", \"observation\", \"preadmission\", \"virtual\"]\n",
    "# patient_cat = [\"emergency care\", \"urgent care\", \"stabilization\", \"prehospital\", \"critical care\", \"trauma\", \"chronic care\"]\n",
    "# goals = [\"waiting\", \"throughput\", \"crowding\", \"noshow\", \"reimbursement\", \"readmission\", \"quality\", \"experience\", \"patient experience\", \"utilization\", \"staffing\", \"satisfaction\", \"drg\", \"revenue\", \"cost\"]\n",
    "# dept = [\"anesthetics\", \"cardiology\", \"gastroenterology\", \"general surgery\", \"gynecology\", \"hematology\", \"neonatal\", \"neurology\", \"ophtalmology\", \"orthopedics\", \"oncology\", \"physiotherapy\", \"radiology\", \"renal unit\", \"urology\"]\n",
    "# area = [\"operating room\", \"emergency department\", \"icu\", \"intensive care unit\"]\n",
    "# cats = [keywords, topics, diseases, study_types, encounter, patient_cat, goals, dept]\n",
    "#\n",
    "# for c in cats:\n",
    "#     add_column(df_bpr_en, c)\n",
    "#\n",
    "# df_bpr_en[\"sota\"] = (df_bpr_en[\"state of the art\"] | df_bpr_en[\"stateoftheart\"])\n",
    "# df_bpr_en[\"patient flow\"] = (df_bpr_en[\"patient flow\"] | df_bpr_en[\"patientflow\"])\n",
    "# del df_bpr_en[\"state of the art\"]\n",
    "# del df_bpr_en[\"stateoftheart\"]\n",
    "# del df_bpr_en[\"patientflow\"]\n",
    "#\n",
    "# df_bpr_en.head()"
   ],
   "metadata": {
    "collapsed": false,
    "pycharm": {
     "name": "#%%\n"
    }
   }
  },
  {
   "cell_type": "code",
   "execution_count": 6,
   "outputs": [
    {
     "data": {
      "text/plain": "<Figure size 432x288 with 1 Axes>",
      "image/png": "[encoded data removed]"
     },
     "metadata": {
      "needs_background": "light"
     },
     "output_type": "display_data"
    },
    {
     "name": "stdout",
     "output_type": "stream",
     "text": [
      "19\n"
     ]
    },
    {
     "data": {
      "text/plain": "<Figure size 432x288 with 1 Axes>",
      "image/png": "[encoded data removed]"
     },
     "metadata": {
      "needs_background": "light"
     },
     "output_type": "display_data"
    }
   ],
   "source": [
    "# print(df_bpr_en[\"Publication Year\"])\n",
    "\n",
    "sns.histplot(df_bpr_en[\"Publication Year\"], binwidth=1)\n",
    "plt.ylim(0, 20)\n",
    "plt.xlim(1990, 2022)\n",
    "plt.ylabel(\"Publications\")\n",
    "plt.xlabel(\"Year\")\n",
    "plt.title(\"Publications/Year (all BPR)\")\n",
    "plt.show()\n",
    "\n",
    "df_abpr = df_bpr_en.loc[\n",
    "    df_bpr_en['txt'].str.contains(\"automated\", regex=False, case=False)\n",
    "    + df_bpr_en['txt'].str.contains(\"pattern\", regex=False, case=False)\n",
    "    + df_bpr_en['txt'].str.contains(\"heuristics\", regex=False, case=False)\n",
    "    ]\n",
    "print(len(df_abpr))\n",
    "\n",
    "sns.histplot(df_abpr[\"Publication Year\"], binwidth=1)\n",
    "plt.ylim(0, 20)\n",
    "plt.xlim(1990, 2022)\n",
    "plt.ylabel(\"Publications\")\n",
    "plt.xlabel(\"Year\")\n",
    "plt.title(\"Publications/Year (only automated/pattern-based)\")\n",
    "plt.show()"
   ],
   "metadata": {
    "collapsed": false,
    "pycharm": {
     "name": "#%%\n"
    }
   }
  },
  {
   "cell_type": "code",
   "execution_count": 7,
   "outputs": [
    {
     "data": {
      "text/plain": "<Figure size 432x288 with 1 Axes>",
      "image/png": "[encoded data removed]"
     },
     "metadata": {
      "needs_background": "light"
     },
     "output_type": "display_data"
    },
    {
     "data": {
      "text/plain": "<Figure size 360x360 with 1 Axes>",
      "image/png": "[encoded data removed]"
     },
     "metadata": {
      "needs_background": "light"
     },
     "output_type": "display_data"
    }
   ],
   "source": [
    "# plt.hist(df_bpr_en[\"Times Cited, All Databases\"])\n",
    "sns.histplot(df_bpr_en[\"Times Cited, All Databases\"], binwidth=1)\n",
    "plt.ylabel(\"No. of citations (all databases)\")\n",
    "plt.xlabel(\"Year\")\n",
    "plt.title(\"Citations/Year (all BPR)\")\n",
    "plt.show()\n",
    "\n",
    "df_abpr = df_bpr_en.loc[\n",
    "    df_bpr_en['txt'].str.contains(\"automated\", regex=False, case=False)\n",
    "    + df_bpr_en['txt'].str.contains(\"pattern\", regex=False, case=False)\n",
    "    + df_bpr_en['txt'].str.contains(\"heuristics\", regex=False, case=False)\n",
    "    ]\n",
    "\n",
    "sns.displot(df_abpr[\"Times Cited, All Databases\"])\n",
    "plt.ylabel(\"Number of citations (all databases)\")\n",
    "plt.xlabel(\"Year\")\n",
    "plt.title(\"Total no. of citations, only automated/pattern-based\")\n",
    "plt.show()"
   ],
   "metadata": {
    "collapsed": false,
    "pycharm": {
     "name": "#%%\n"
    }
   }
  },
  {
   "cell_type": "code",
   "execution_count": 8,
   "outputs": [
    {
     "name": "stdout",
     "output_type": "stream",
     "text": [
      "Publication Year\n",
      "1990    1079\n",
      "1992      86\n",
      "1993      92\n",
      "1994     302\n",
      "1995      66\n",
      "1996     289\n",
      "1997     553\n",
      "1998     561\n",
      "1999     717\n",
      "2000      98\n",
      "2001       0\n",
      "2002     112\n",
      "2003     102\n",
      "2004      11\n",
      "2005     334\n",
      "2006      96\n",
      "2007       9\n",
      "2008      75\n",
      "2009     161\n",
      "2010      32\n",
      "2011       5\n",
      "2012      20\n",
      "2013      15\n",
      "2014       9\n",
      "2015      52\n",
      "2016     156\n",
      "2017      73\n",
      "2018       2\n",
      "2019      84\n",
      "2020      24\n",
      "2021       8\n",
      "2022       3\n",
      "Name: Times Cited, All Databases, dtype: int64\n"
     ]
    },
    {
     "data": {
      "text/plain": "<Figure size 432x288 with 1 Axes>",
      "image/png": "[encoded data removed]"
     },
     "metadata": {
      "needs_background": "light"
     },
     "output_type": "display_data"
    },
    {
     "name": "stdout",
     "output_type": "stream",
     "text": [
      "   Publication Type                                            Authors  \\\n",
      "0                 J  Fehrer, T; Fischer, DA; Leemans, SJJ; Roglinge...   \n",
      "1                 C  Milani, F; Garcia-Banuelos, L; Reijers, HA; St...   \n",
      "11                C                Mustansir, A; Shahzad, K; Malik, MK   \n",
      "14                J                           Reijiers, HA; Mansar, SL   \n",
      "15                J                Mustansir, A; Shahzad, K; Malik, MK   \n",
      "\n",
      "                                    Author Full Names  \\\n",
      "0   Fehrer, Tobias; Fischer, Dominik A.; Leemans, ...   \n",
      "1   Milani, Frederik; Garcia-Banuelos, Luciano; Re...   \n",
      "11  Mustansir, Amina; Shahzad, Khurram; Malik, Muh...   \n",
      "14                           Reijiers, HA; Mansar, SL   \n",
      "15  Mustansir, Amina; Shahzad, Khurram; Malik, Muh...   \n",
      "\n",
      "                                        Article Title  \\\n",
      "0        assisted approach  business process redesign   \n",
      "1   business process redesign heuristics for block...   \n",
      "11  autoeprs extracting business process redesign ...   \n",
      "14  best practices  business process redesign  ove...   \n",
      "15  towards automatic business process redesign  n...   \n",
      "\n",
      "                                         Source Title Language  \\\n",
      "0                            DECISION SUPPORT SYSTEMS  English   \n",
      "1   2020 IEEE 24TH INTERNATIONAL ENTERPRISE DISTRI...  English   \n",
      "11  2020 35TH IEEE/ACM INTERNATIONAL CONFERENCE ON...  English   \n",
      "14  OMEGA-INTERNATIONAL JOURNAL OF MANAGEMENT SCIENCE  English   \n",
      "15                     AUTOMATED SOFTWARE ENGINEERING  English   \n",
      "\n",
      "        Document Type                                    Author Keywords  \\\n",
      "0             Article  Business process redesign; Reference architect...   \n",
      "1   Proceedings Paper  business process management; blockchain; busin...   \n",
      "11  Proceedings Paper  Automated software engineering; business proce...   \n",
      "14            Article  business process redesign; operations manageme...   \n",
      "15            Article  Software engineering; Business process redesig...   \n",
      "\n",
      "                     Keywords Plus  \\\n",
      "0   DESIGN SCIENCE RESEARCH; MODEL   \n",
      "1                              NaN   \n",
      "11                             NaN   \n",
      "14            BPR; FRAMEWORK; TASK   \n",
      "15  PROCESS MANAGEMENT; VALIDATION   \n",
      "\n",
      "                                             Abstract  ... Start Page  \\\n",
      "0   for many organizations the continuous optimiza...  ...        NaN   \n",
      "1   blockchain has emerged  one  the most promisin...  ...        209   \n",
      "11   this paper  have defined  nlp task for the au...  ...        118   \n",
      "14   implement business process redesign several b...  ...        283   \n",
      "15  business process redesign bpr  widely recogniz...  ...        NaN   \n",
      "\n",
      "   End Page Article Number                           DOI  \\\n",
      "0       NaN         113749     10.1016/j.dss.2022.113749   \n",
      "1       216            NaN  10.1109/EDOC49727.2020.00033   \n",
      "11      124            NaN       10.1145/3417113.3423374   \n",
      "14      306            NaN   10.1016/j.omega.2004.04.012   \n",
      "15      NaN             12    10.1007/s10515-021-00316-8   \n",
      "\n",
      "                                          DOI Link  Number of Pages  \\\n",
      "0      http://dx.doi.org/10.1016/j.dss.2022.113749               12   \n",
      "1   http://dx.doi.org/10.1109/EDOC49727.2020.00033                8   \n",
      "11       http://dx.doi.org/10.1145/3417113.3423374                7   \n",
      "14   http://dx.doi.org/10.1016/j.omega.2004.04.012               24   \n",
      "15    http://dx.doi.org/10.1007/s10515-021-00316-8               24   \n",
      "\n",
      "                                       WoS Categories   UT (Unique WOS ID)  \\\n",
      "0   Computer Science, Artificial Intelligence; Com...  WOS:000820515200009   \n",
      "1   Computer Science, Software Engineering; Comput...  WOS:000630246800023   \n",
      "11  Automation & Control Systems; Computer Science...  WOS:000656878000020   \n",
      "14  Management; Operations Research & Management S...  WOS:000228032900001   \n",
      "15             Computer Science, Software Engineering  WOS:000737064300002   \n",
      "\n",
      "                 Web of Science Record  \\\n",
      "0   View Full Record in Web of Science   \n",
      "1   View Full Record in Web of Science   \n",
      "11  View Full Record in Web of Science   \n",
      "14  View Full Record in Web of Science   \n",
      "15  View Full Record in Web of Science   \n",
      "\n",
      "                                                  txt  \n",
      "0    assisted approach  business process redesignf...  \n",
      "1   business process redesign heuristics for block...  \n",
      "11  autoeprs extracting business process redesign ...  \n",
      "14  best practices  business process redesign  ove...  \n",
      "15  towards automatic business process redesign  n...  \n",
      "\n",
      "[5 rows x 37 columns]\n"
     ]
    },
    {
     "data": {
      "text/plain": "<Figure size 432x288 with 1 Axes>",
      "image/png": "[encoded data removed]"
     },
     "metadata": {
      "needs_background": "light"
     },
     "output_type": "display_data"
    }
   ],
   "source": [
    "citations_all = df_bpr_en[\"Times Cited, All Databases\"].groupby(df_bpr_en[\"Publication Year\"]).sum()\n",
    "print(citations_all)\n",
    "citations_all.plot()\n",
    "plt.xlim(1991, 2022)\n",
    "plt.ylim(0,800)\n",
    "plt.ylabel(\"No. of citations (all databases)\")\n",
    "plt.xlabel(\"Year\")\n",
    "plt.title(\"Citations/Year (all BPR)\")\n",
    "plt.show()\n",
    "\n",
    "df_abpr = df_bpr_en.loc[\n",
    "    df_bpr_en['txt'].str.contains(\"automated\", regex=False, case=False)\n",
    "    + df_bpr_en['txt'].str.contains(\"pattern\", regex=False, case=False)\n",
    "    + df_bpr_en['txt'].str.contains(\"heuristics\", regex=False, case=False)\n",
    "    ]\n",
    "\n",
    "print(df_abpr.head())\n",
    "\n",
    "citations_abpr = df_abpr[\"Times Cited, All Databases\"].groupby(df_bpr_en[\"Publication Year\"]).sum()\n",
    "citations_abpr.plot()\n",
    "plt.xlim(2006, 2022)\n",
    "plt.ylim(0,50)\n",
    "plt.ylabel(\"No. of citations (all databases)\")\n",
    "plt.xlabel(\"Year\")\n",
    "plt.title(\"Citations/Year (automated/pattern-based BPR)\")\n",
    "plt.show()"
   ],
   "metadata": {
    "collapsed": false,
    "pycharm": {
     "name": "#%%\n"
    }
   }
  },
  {
   "cell_type": "code",
   "execution_count": 9,
   "outputs": [
    {
     "name": "stdout",
     "output_type": "stream",
     "text": [
      "Papers that mention KPIs: 3\n",
      "Papers that mention patterns: 9\n"
     ]
    }
   ],
   "source": [
    "# Papers that mention KPIs\n",
    "words = [\"key performance indicator\", \"kpi\"]\n",
    "print(\"Papers that mention KPIs: \" + str(\n",
    "    len(df_bpr_en[df_bpr_en[\"txt\"].str.contains('|'.join(words), case=False)][\"txt\"])))\n",
    "\n",
    "words = [\"pattern\"]\n",
    "print(\"Papers that mention patterns: \" + str(\n",
    "    len(df_bpr_en[df_bpr_en[\"txt\"].str.contains('|'.join(words), case=False)][\"txt\"])))"
   ],
   "metadata": {
    "collapsed": false,
    "pycharm": {
     "name": "#%%\n"
    }
   }
  },
  {
   "cell_type": "code",
   "execution_count": 10,
   "outputs": [
    {
     "name": "stdout",
     "output_type": "stream",
     "text": [
      "Papers that mention patterns: 9\n",
      "Total no. of papers in APBR corpus: 19\n"
     ]
    }
   ],
   "source": [
    "words = [\"pattern\"]\n",
    "print(\"Papers that mention patterns: \" + str(\n",
    "    len(df_abpr[df_bpr_en[\"txt\"].str.contains('|'.join(words), case=False)][\"txt\"])))\n",
    "print(\"Total no. of papers in APBR corpus: \" + str(len(df_abpr[\"txt\"])))"
   ],
   "metadata": {
    "collapsed": false,
    "pycharm": {
     "name": "#%%\n"
    }
   }
  },
  {
   "cell_type": "code",
   "execution_count": 11,
   "outputs": [
    {
     "name": "stdout",
     "output_type": "stream",
     "text": [
      "BPR:\n",
      "Total papers: 202\n",
      "Papers that mention case study: 46\n",
      "Papers that mention review: 16\n",
      "Papers that mention invention: 0\n",
      "ABPR:\n",
      "Total papers: 19\n",
      "Papers that mention case study: 5\n",
      "Papers that mention review: 2\n",
      "Papers that mention invention: 0\n"
     ]
    }
   ],
   "source": [
    "print(\"BPR:\")\n",
    "words = [\"\"]\n",
    "print(\"Total papers: \" + str(\n",
    "    len(df_bpr_en[df_bpr_en[\"txt\"].str.contains('|'.join(words), case=False)][\"txt\"])))\n",
    "\n",
    "words = [\"case study\"]\n",
    "print(\"Papers that mention case study: \" + str(\n",
    "    len(df_bpr_en[df_bpr_en[\"txt\"].str.contains('|'.join(words), case=False)][\"txt\"])))\n",
    "\n",
    "words = [\"review\"]\n",
    "print(\"Papers that mention review: \" + str(\n",
    "    len(df_bpr_en[df_bpr_en[\"txt\"].str.contains('|'.join(words), case=False)][\"txt\"])))\n",
    "\n",
    "words = [\"invention\"]\n",
    "print(\"Papers that mention invention: \" + str(\n",
    "    len(df_bpr_en[df_bpr_en[\"txt\"].str.contains('|'.join(words), case=False)][\"txt\"])))\n",
    "\n",
    "print(\"ABPR:\")\n",
    "words = [\"\"]\n",
    "print(\"Total papers: \" + str(\n",
    "    len(df_abpr[df_abpr[\"txt\"].str.contains('|'.join(words), case=False)][\"txt\"])))\n",
    "\n",
    "words = [\"case study\"]\n",
    "print(\"Papers that mention case study: \" + str(\n",
    "    len(df_abpr[df_abpr[\"txt\"].str.contains('|'.join(words), case=False)][\"txt\"])))\n",
    "\n",
    "words = [\"review\"]\n",
    "print(\"Papers that mention review: \" + str(\n",
    "    len(df_abpr[df_abpr[\"txt\"].str.contains('|'.join(words), case=False)][\"txt\"])))\n",
    "\n",
    "words = [\"invention\"]\n",
    "print(\"Papers that mention invention: \" + str(\n",
    "    len(df_abpr[df_abpr[\"txt\"].str.contains('|'.join(words), case=False)][\"txt\"])))\n"
   ],
   "metadata": {
    "collapsed": false,
    "pycharm": {
     "name": "#%%\n"
    }
   }
  },
  {
   "cell_type": "code",
   "execution_count": 12,
   "outputs": [
    {
     "name": "stdout",
     "output_type": "stream",
     "text": [
      "BPR:\n",
      "Total papers: 0\n",
      "ABPR:\n",
      "Total papers: 0\n"
     ]
    }
   ],
   "source": [
    "print(\"BPR:\")\n",
    "words = [\"concept drift\"]\n",
    "print(\"Total papers: \" + str(\n",
    "    len(df_bpr_en[df_bpr_en[\"txt\"].str.contains('|'.join(words), case=False)][\"txt\"])))\n",
    "\n",
    "print(\"ABPR:\")\n",
    "words = [\"concept drift\"]\n",
    "print(\"Total papers: \" + str(\n",
    "    len(df_abpr[df_abpr[\"txt\"].str.contains('|'.join(words), case=False)][\"txt\"])))\n"
   ],
   "metadata": {
    "collapsed": false,
    "pycharm": {
     "name": "#%%\n"
    }
   }
  },
  {
   "cell_type": "code",
   "execution_count": 13,
   "outputs": [
    {
     "name": "stdout",
     "output_type": "stream",
     "text": [
      "BPR: 519\n",
      "ABPR: 54\n"
     ]
    }
   ],
   "source": [
    "# Get number of unique authors:\n",
    "# num_unique_authors = df_bpr_en[\"Authors\"].nunique()\n",
    "\n",
    "df_bpr_en[\"Authors List\"] = df_bpr_en[\"Authors\"].str.split(\";\")\n",
    "df_exploded = df_bpr_en.explode(\"Authors List\")\n",
    "df_exploded.drop_duplicates(inplace=True)\n",
    "num_unique_authors = df_exploded[\"Authors List\"].count()\n",
    "print(\"BPR: \" + str(num_unique_authors))\n",
    "\n",
    "df_abpr[\"Authors List\"] = df_abpr[\"Authors\"].str.split(\";\")\n",
    "df_exploded = df_abpr.explode(\"Authors List\")\n",
    "df_exploded.drop_duplicates(inplace=True)\n",
    "num_unique_authors = df_exploded[\"Authors List\"].count()\n",
    "print(\"ABPR: \" + str(num_unique_authors))"
   ],
   "metadata": {
    "collapsed": false,
    "pycharm": {
     "name": "#%%\n"
    }
   }
  },
  {
   "cell_type": "code",
   "execution_count": 14,
   "outputs": [
    {
     "name": "stdout",
     "output_type": "stream",
     "text": [
      "    Publication Type                                            Authors  \\\n",
      "60                 J                           DAVENPORT, TH; SHORT, JE   \n",
      "163                J                  Kettinger, WJ; Teng, JTC; Guha, S   \n",
      "166                J                                     Gunasekaran, A   \n",
      "75                 J  Malone, TW; Crowston, K; Lee, J; Pentland, B; ...   \n",
      "12                 J                Broadbent, M; Weill, P; St Clair, D   \n",
      "\n",
      "                                     Author Full Names  \\\n",
      "60                            DAVENPORT, TH; SHORT, JE   \n",
      "163                  Kettinger, WJ; Teng, JTC; Guha, S   \n",
      "166                                     Gunasekaran, A   \n",
      "75   Malone, TW; Crowston, K; Lee, J; Pentland, B; ...   \n",
      "12                 Broadbent, M; Weill, P; St Clair, D   \n",
      "\n",
      "                                         Article Title  \\\n",
      "60   the new industrialengineering  information tec...   \n",
      "163  business process change  study  methodologies ...   \n",
      "166  agile manufacturing enablers and  implementati...   \n",
      "75   tools for inventing organizations toward  hand...   \n",
      "12   the implications  information technology infra...   \n",
      "\n",
      "                                     Source Title Language Document Type  \\\n",
      "60                        SLOAN MANAGEMENT REVIEW  English       Article   \n",
      "163                                 MIS QUARTERLY  English       Article   \n",
      "166  INTERNATIONAL JOURNAL OF PRODUCTION RESEARCH  English       Article   \n",
      "75                             MANAGEMENT SCIENCE  English       Article   \n",
      "12                                  MIS QUARTERLY  English       Article   \n",
      "\n",
      "                                       Author Keywords  \\\n",
      "60                                                 NaN   \n",
      "163  business process redesign; reengineering; meth...   \n",
      "166                                                NaN   \n",
      "75   business process redesign; knowledge managemen...   \n",
      "12   IT infrastructure; IT services; business proce...   \n",
      "\n",
      "                                         Keywords Plus  \\\n",
      "60                                                 NaN   \n",
      "163                                INFORMATION-SYSTEMS   \n",
      "166  INFORMATION-SYSTEMS; INTEGRATION; ARCHITECTURE...   \n",
      "75                COORDINATION; GARBAGE; CHOICE; MODEL   \n",
      "12                                             SYSTEMS   \n",
      "\n",
      "                                              Abstract  ... End Page  \\\n",
      "60                                                 NaN  ...       27   \n",
      "163  growth  business process reengineering bpr con...  ...       80   \n",
      "166  tougher competitive situations have led  incre...  ...     1247   \n",
      "75   this paper describes  novel theoretical and em...  ...      443   \n",
      "12   business process redesign bpr   pervasive but ...  ...      182   \n",
      "\n",
      "    Article Number                      DOI  \\\n",
      "60             NaN                      NaN   \n",
      "163            NaN           10.2307/249742   \n",
      "166            NaN  10.1080/002075498193291   \n",
      "75             NaN    10.1287/mnsc.45.3.425   \n",
      "12             NaN           10.2307/249750   \n",
      "\n",
      "                                      DOI Link Number of Pages  \\\n",
      "60                                         NaN              17   \n",
      "163           http://dx.doi.org/10.2307/249742              26   \n",
      "166  http://dx.doi.org/10.1080/002075498193291              25   \n",
      "75     http://dx.doi.org/10.1287/mnsc.45.3.425              19   \n",
      "12            http://dx.doi.org/10.2307/249750              24   \n",
      "\n",
      "                                        WoS Categories   UT (Unique WOS ID)  \\\n",
      "60                                Business; Management  WOS:A1990DT52300005   \n",
      "163  Computer Science, Information Systems; Informa...  WOS:A1997XX64900004   \n",
      "166  Engineering, Industrial; Engineering, Manufact...  WOS:000073433700004   \n",
      "75   Management; Operations Research & Management S...  WOS:000082215800012   \n",
      "12   Computer Science, Information Systems; Informa...  WOS:000081494400003   \n",
      "\n",
      "                  Web of Science Record  \\\n",
      "60   View Full Record in Web of Science   \n",
      "163  View Full Record in Web of Science   \n",
      "166  View Full Record in Web of Science   \n",
      "75   View Full Record in Web of Science   \n",
      "12   View Full Record in Web of Science   \n",
      "\n",
      "                                                   txt  \\\n",
      "60   the new industrialengineering  information tec...   \n",
      "163  business process change  study  methodologies ...   \n",
      "166  agile manufacturing enablers and  implementati...   \n",
      "75   tools for inventing organizations toward  hand...   \n",
      "12   the implications  information technology infra...   \n",
      "\n",
      "                                          Authors List  \n",
      "60                         [DAVENPORT, TH,  SHORT, JE]  \n",
      "163              [Kettinger, WJ,  Teng, JTC,  Guha, S]  \n",
      "166                                   [Gunasekaran, A]  \n",
      "75   [Malone, TW,  Crowston, K,  Lee, J,  Pentland,...  \n",
      "12             [Broadbent, M,  Weill, P,  St Clair, D]  \n",
      "\n",
      "[5 rows x 38 columns]\n"
     ]
    }
   ],
   "source": [
    "# Get most cited publications\n",
    "sorted = df_bpr_en.sort_values(by=\"Times Cited, All Databases\", ascending=False)\n",
    "print(sorted.head())"
   ],
   "metadata": {
    "collapsed": false,
    "pycharm": {
     "name": "#%%\n"
    }
   }
  },
  {
   "cell_type": "code",
   "execution_count": 15,
   "outputs": [],
   "source": [
    "# TODO: not sure if this is useful for anything\n",
    "# replace True/False with 0/1 for sum calculations\n",
    "# df_bpr_en.replace(False, 0, inplace=True)\n",
    "# df_bpr_en.replace(True, 1, inplace=True)"
   ],
   "metadata": {
    "collapsed": false,
    "pycharm": {
     "name": "#%%\n"
    }
   }
  },
  {
   "cell_type": "markdown",
   "source": [
    "# Generative Graph Neural Networks"
   ],
   "metadata": {
    "collapsed": false,
    "pycharm": {
     "name": "#%% md\n"
    }
   }
  },
  {
   "cell_type": "code",
   "execution_count": 16,
   "outputs": [
    {
     "name": "stdout",
     "output_type": "stream",
     "text": [
      "The dataset contains 149 papers.\n",
      "\n",
      "No. of papers without abstract: 0\n",
      "No. of papers without tags: 35\n"
     ]
    }
   ],
   "source": [
    "df_ggnn = pd.read_csv(\"ggnn-lit.csv\", sep=\";\").drop_duplicates(subset=[\"Article Title\"])\n",
    "print(\"The dataset contains %i papers.\\n\" % len(df_ggnn))\n",
    "\n",
    "print(\"No. of papers without abstract: \" + str(df_ggnn[\"Abstract\"].isna().sum()))\n",
    "print(\"No. of papers without tags: \" + str(df_ggnn[\n",
    "                                               \"Author Keywords\"].isna().sum()))"
   ],
   "metadata": {
    "collapsed": false,
    "pycharm": {
     "name": "#%%\n"
    }
   }
  },
  {
   "cell_type": "code",
   "execution_count": 17,
   "outputs": [],
   "source": [
    "#remove special characters in titles + abstracts\n",
    "i = [\"Abstract\", \"Article Title\"]\n",
    "for i in i:\n",
    "    clean_text(df_bpr, i)\n",
    "\n",
    "#subset dataset to only include english publications\n",
    "languages = [\"English\", \"eng\"]\n",
    "df_ggnn_en = df_ggnn.loc[df_ggnn['Language'].isin(languages)]\n",
    "\n",
    "#create new column with all textual data\n",
    "df_ggnn_en[\"txt\"] = df_ggnn_en[\"Article Title\"] + df_ggnn_en[\"Abstract\"].fillna(\"\") + df_ggnn_en[\n",
    "    \"Author Keywords\"].fillna(\"\")\n",
    "\n",
    "#create df with abstracts\n",
    "df_ggnn_en_abstract = df_ggnn_en[\"Abstract\"]"
   ],
   "metadata": {
    "collapsed": false,
    "pycharm": {
     "name": "#%%\n"
    }
   }
  },
  {
   "cell_type": "code",
   "execution_count": 18,
   "outputs": [
    {
     "data": {
      "text/plain": "<Figure size 720x432 with 1 Axes>",
      "image/png": "[encoded data removed]"
     },
     "metadata": {
      "needs_background": "light"
     },
     "output_type": "display_data"
    },
    {
     "data": {
      "text/plain": "<Figure size 360x360 with 1 Axes>",
      "image/png": "[encoded data removed]"
     },
     "metadata": {
      "needs_background": "light"
     },
     "output_type": "display_data"
    },
    {
     "data": {
      "text/plain": "<Figure size 720x432 with 1 Axes>",
      "image/png": "[encoded data removed]"
     },
     "metadata": {
      "needs_background": "light"
     },
     "output_type": "display_data"
    }
   ],
   "source": [
    "plt.figure(figsize=[10, 6])\n",
    "\n",
    "sns.histplot(df_ggnn_en[\"Publication Year\"], binwidth=1)\n",
    "plt.ylabel(\"No. of publications\")\n",
    "plt.xlabel(\"Year\")\n",
    "plt.title(\"Publications/Year (all GGNN)\")\n",
    "plt.show()\n",
    "\n",
    "df_temporal = df_ggnn_en.loc[\n",
    "    df_ggnn_en['txt'].str.contains(\"Temporal\", regex=False, case=False)\n",
    "    + df_ggnn_en['txt'].str.contains(\"Time\", regex=False, case=False)\n",
    "    ]\n",
    "\n",
    "sns.displot(df_temporal[\"Publication Year\"])\n",
    "plt.ylabel(\"No. of publications\")\n",
    "plt.xlabel(\"Year\")\n",
    "plt.title(\"Publications/Year (temporal only)\")\n",
    "plt.show()\n",
    "\n",
    "\n",
    "plt.figure(figsize=[10, 6])\n",
    "sns.histplot(df_ggnn_en[\"Publication Year\"], binwidth=1)\n",
    "plt.ylim(0, 100)\n",
    "plt.xlim(2014, 2022)\n",
    "plt.ylabel(\"Publications\")\n",
    "plt.xlabel(\"Year\")\n",
    "plt.title(\"Publications/Year (all GGNN)\")\n",
    "plt.show()"
   ],
   "metadata": {
    "collapsed": false,
    "pycharm": {
     "name": "#%%\n"
    }
   }
  },
  {
   "cell_type": "code",
   "execution_count": 19,
   "outputs": [
    {
     "data": {
      "text/plain": "<Figure size 720x432 with 1 Axes>",
      "image/png": "[encoded data removed]"
     },
     "metadata": {
      "needs_background": "light"
     },
     "output_type": "display_data"
    },
    {
     "name": "stdout",
     "output_type": "stream",
     "text": [
      "Publication Year\n",
      "2016.0     21\n",
      "2017.0    160\n",
      "2018.0    109\n",
      "2019.0    523\n",
      "2020.0    636\n",
      "2021.0    188\n",
      "2022.0     15\n",
      "Name: Times Cited, All Databases, dtype: int64\n"
     ]
    },
    {
     "data": {
      "text/plain": "<Figure size 432x288 with 1 Axes>",
      "image/png": "[encoded data removed]"
     },
     "metadata": {
      "needs_background": "light"
     },
     "output_type": "display_data"
    }
   ],
   "source": [
    "plt.figure(figsize=[10, 6])\n",
    "\n",
    "citations_all = df_ggnn_en[\"Times Cited, All Databases\"].groupby(df_ggnn_en[\"Publication Year\"]).sum()\n",
    "citations_all.plot()\n",
    "plt.ylabel(\"No. of citations (all databases)\")\n",
    "plt.xlabel(\"Year\")\n",
    "# plt.xlim(1990, 2023)\n",
    "plt.title(\"Citations/Year (all GGNN)\")\n",
    "plt.show()\n",
    "\n",
    "\n",
    "\n",
    "\n",
    "citations_all = df_ggnn_en[\"Times Cited, All Databases\"].groupby(df_ggnn_en[\"Publication Year\"]).sum()\n",
    "print(citations_all)\n",
    "citations_all.plot()\n",
    "plt.xlim(2015, 2022)\n",
    "plt.ylim(0,800)\n",
    "plt.ylabel(\"No. of citations (all databases)\")\n",
    "plt.xlabel(\"Year\")\n",
    "plt.title(\"Citations/Year (all GGNN)\")\n",
    "plt.show()"
   ],
   "metadata": {
    "collapsed": false,
    "pycharm": {
     "name": "#%%\n"
    }
   }
  },
  {
   "cell_type": "code",
   "execution_count": 20,
   "outputs": [
    {
     "name": "stdout",
     "output_type": "stream",
     "text": [
      "21 papers mention recurrent:\n",
      "15 papers mention single-shot generation:\n",
      "17 papers mention temporal dependencies:\n"
     ]
    }
   ],
   "source": [
    "words = [\"recurrent\", \"autoregressive\"]\n",
    "print(str(len(df_ggnn_en[df_ggnn_en[\"txt\"].str.contains('|'.join(words), case=False)][\"txt\"])) + \" papers mention recurrent:\")\n",
    "\n",
    "words = [\"single-shot\", \"single\", \"shot\"]\n",
    "print(str(len(df_ggnn_en[df_ggnn_en[\"txt\"].str.contains('|'.join(words), case=False)][\"txt\"])) + \" papers mention single-shot generation:\")\n",
    "\n",
    "words = [\"temporal\"]\n",
    "print(str(len(df_ggnn_en[df_ggnn_en[\"txt\"].str.contains('|'.join(words), case=False)][\"txt\"])) + \" papers mention temporal dependencies:\")"
   ],
   "metadata": {
    "collapsed": false,
    "pycharm": {
     "name": "#%%\n"
    }
   }
  },
  {
   "cell_type": "code",
   "execution_count": 21,
   "outputs": [
    {
     "name": "stdout",
     "output_type": "stream",
     "text": [
      "8 papers mention dynamic graphs:\n",
      "9              Stochastic graph recurrent neural network\n",
      "16     EvoNet: A Neural Network for Predicting the Ev...\n",
      "25     DynGraphGAN: Dynamic Graph Embedding via Gener...\n",
      "32     Coupled Graph ODE for Learning Interacting Sys...\n",
      "69     Variational Graph Neural Networks for Road Tra...\n",
      "91     Spatio-Temporal Graph Dual-Attention Network f...\n",
      "97     Representation Learning for Dynamic Functional...\n",
      "114    An investigation into the deep learning approa...\n",
      "Name: Article Title, dtype: object\n"
     ]
    }
   ],
   "source": [
    "words = [\"dynamic graphs\", \"dynamic graph\"]\n",
    "print(str(len(df_ggnn_en[df_ggnn_en[\"txt\"].str.contains('|'.join(words), case=False)][\"txt\"])) + \" papers mention dynamic graphs:\")\n",
    "print(df_ggnn_en[df_ggnn_en[\"txt\"].str.contains('|'.join(words), case=False)][\"Article Title\"])"
   ],
   "metadata": {
    "collapsed": false,
    "pycharm": {
     "name": "#%%\n"
    }
   }
  },
  {
   "cell_type": "code",
   "execution_count": 22,
   "outputs": [
    {
     "name": "stdout",
     "output_type": "stream",
     "text": [
      "    Publication Type                                            Authors  \\\n",
      "144                J                          van Engelen, JE; Hoos, HH   \n",
      "142                J     Elton, DC; Boukouvalas, Z; Fuge, MD; Chung, PW   \n",
      "36                 J  Li, J; Xu, K; Chaudhuri, S; Yumer, E; Zhang, H...   \n",
      "56                 J                                         Jensen, JH   \n",
      "93                 J  Gao, L; Yang, J; Wu, T; Yuan, YJ; Fu, HB; Lai,...   \n",
      "\n",
      "    Book Editors Book Group Authors  \\\n",
      "144          NaN                NaN   \n",
      "142          NaN                NaN   \n",
      "36           NaN                NaN   \n",
      "56           NaN                NaN   \n",
      "93           NaN                NaN   \n",
      "\n",
      "                                     Author Full Names  \\\n",
      "144            Van Engelen, Jesper E.; Hoos, Holger H.   \n",
      "142  Elton, Daniel C.; Boukouvalas, Zois; Fuge, Mar...   \n",
      "36   Li, Jun; Xu, Kai; Chaudhuri, Siddhartha; Yumer...   \n",
      "56                                      Jensen, Jan H.   \n",
      "93   Gao, Lin; Yang, Jie; Wu, Tong; Yuan, Yu-Jie; F...   \n",
      "\n",
      "                                         Article Title  \\\n",
      "144               A survey on semi-supervised learning   \n",
      "142  Deep learning for molecular design-a review of...   \n",
      "36   GRASS: Generative Recursive Autoencoders for S...   \n",
      "56   A graph-based genetic algorithm and generative...   \n",
      "93   SDM-NET: Deep Generative Network for Structure...   \n",
      "\n",
      "                               Source Title Book Series Title Language  \\\n",
      "144                        MACHINE LEARNING               NaN  English   \n",
      "142  MOLECULAR SYSTEMS DESIGN & ENGINEERING               NaN  English   \n",
      "36             ACM TRANSACTIONS ON GRAPHICS               NaN  English   \n",
      "56                         CHEMICAL SCIENCE               NaN  English   \n",
      "93             ACM TRANSACTIONS ON GRAPHICS               NaN  English   \n",
      "\n",
      "    Document Type  ... Volume Issue Start Page End Page Article Number  \\\n",
      "144       Article  ...  109.0   2.0      373.0    440.0            NaN   \n",
      "142        Review  ...    4.0   4.0      828.0    849.0            NaN   \n",
      "36        Article  ...   36.0   4.0        NaN      NaN             52   \n",
      "56        Article  ...   10.0  12.0     3567.0   3572.0            NaN   \n",
      "93        Article  ...   38.0   6.0        NaN      NaN            243   \n",
      "\n",
      "                            DOI                                      DOI Link  \\\n",
      "144  10.1007/s10994-019-05855-6  http://dx.doi.org/10.1007/s10994-019-05855-6   \n",
      "142          10.1039/c9me00039a          http://dx.doi.org/10.1039/c9me00039a   \n",
      "36      10.1145/3072959.3073637     http://dx.doi.org/10.1145/3072959.3073637   \n",
      "56           10.1039/c8sc05372c          http://dx.doi.org/10.1039/c8sc05372c   \n",
      "93      10.1145/3355089.3356488     http://dx.doi.org/10.1145/3355089.3356488   \n",
      "\n",
      "      UT (Unique WOS ID)               Web of Science Record  \\\n",
      "144  WOS:000517069700006  View Full Record in Web of Science   \n",
      "142  WOS:000484198500012  View Full Record in Web of Science   \n",
      "36   WOS:000406432100020  View Full Record in Web of Science   \n",
      "56   WOS:000463759100011  View Full Record in Web of Science   \n",
      "93   WOS:000498397300091  View Full Record in Web of Science   \n",
      "\n",
      "                                                   txt  \n",
      "144  A survey on semi-supervised learningSemi-super...  \n",
      "142  Deep learning for molecular design-a review of...  \n",
      "36   GRASS: Generative Recursive Autoencoders for S...  \n",
      "56   A graph-based genetic algorithm and generative...  \n",
      "93   SDM-NET: Deep Generative Network for Structure...  \n",
      "\n",
      "[5 rows x 37 columns]\n"
     ]
    }
   ],
   "source": [
    "# Get most cited publications\n",
    "sorted = df_ggnn_en.sort_values(by=\"Times Cited, All Databases\", ascending=False)\n",
    "print(sorted.head())"
   ],
   "metadata": {
    "collapsed": false,
    "pycharm": {
     "name": "#%%\n"
    }
   }
  }
 ],
 "metadata": {
  "kernelspec": {
   "display_name": "Python 3",
   "language": "python",
   "name": "python3"
  },
  "language_info": {
   "codemirror_mode": {
    "name": "ipython",
    "version": 2
   },
   "file_extension": ".py",
   "mimetype": "text/x-python",
   "name": "python",
   "nbconvert_exporter": "python",
   "pygments_lexer": "ipython2",
   "version": "2.7.6"
  }
 },
 "nbformat": 4,
 "nbformat_minor": 0
}